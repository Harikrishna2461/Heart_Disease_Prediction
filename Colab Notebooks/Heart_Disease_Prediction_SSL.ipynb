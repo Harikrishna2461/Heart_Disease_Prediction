{
  "nbformat": 4,
  "nbformat_minor": 0,
  "metadata": {
    "colab": {
      "provenance": []
    },
    "kernelspec": {
      "name": "python3",
      "display_name": "Python 3"
    },
    "language_info": {
      "name": "python"
    }
  },
  "cells": [
    {
      "cell_type": "markdown",
      "source": [
        "Code Starts Here"
      ],
      "metadata": {
        "id": "rD0GWmBXsjOu"
      }
    },
    {
      "cell_type": "code",
      "source": [
        "import os\n",
        "import numpy as np\n",
        "import pandas as pd\n",
        "import matplotlib.pyplot as plt \n",
        "import tensorflow as tf\n",
        "from tensorflow.keras import regularizers\n",
        "from tensorflow.keras import layers\n",
        "from tensorflow.keras import optimizers, losses, metrics, Model\n",
        "from sklearn.model_selection import train_test_split\n",
        "import torch\n",
        "import torchvision\n",
        "import torch.nn as nn\n",
        "import torch.optim as optim\n",
        "from torchvision import transforms\n",
        "\n",
        "import cv2\n",
        "from google.colab.patches import cv2_imshow\n",
        "from mpl_toolkits import mplot3d\n",
        "import pywt\n",
        "import librosa\n",
        "import librosa.display\n",
        "from PIL import Image"
      ],
      "metadata": {
        "id": "HBCveesXsprS"
      },
      "execution_count": null,
      "outputs": []
    },
    {
      "cell_type": "code",
      "source": [
        "!pip install tensorflow-addons==0.16.1\n",
        "import tensorflow_addons as tfa"
      ],
      "metadata": {
        "colab": {
          "base_uri": "https://localhost:8080/"
        },
        "id": "rqVQAl-OARcc",
        "outputId": "7ae6df97-016a-45bd-f948-d1519625442f"
      },
      "execution_count": null,
      "outputs": [
        {
          "output_type": "stream",
          "name": "stdout",
          "text": [
            "Looking in indexes: https://pypi.org/simple, https://us-python.pkg.dev/colab-wheels/public/simple/\n",
            "Requirement already satisfied: tensorflow-addons==0.16.1 in /usr/local/lib/python3.9/dist-packages (0.16.1)\n",
            "Requirement already satisfied: typeguard>=2.7 in /usr/local/lib/python3.9/dist-packages (from tensorflow-addons==0.16.1) (3.0.2)\n",
            "Requirement already satisfied: typing-extensions>=4.4.0 in /usr/local/lib/python3.9/dist-packages (from typeguard>=2.7->tensorflow-addons==0.16.1) (4.5.0)\n",
            "Requirement already satisfied: importlib-metadata>=3.6 in /usr/local/lib/python3.9/dist-packages (from typeguard>=2.7->tensorflow-addons==0.16.1) (6.1.0)\n",
            "Requirement already satisfied: zipp>=0.5 in /usr/local/lib/python3.9/dist-packages (from importlib-metadata>=3.6->typeguard>=2.7->tensorflow-addons==0.16.1) (3.15.0)\n"
          ]
        },
        {
          "output_type": "stream",
          "name": "stderr",
          "text": [
            "/usr/local/lib/python3.9/dist-packages/tensorflow_addons/utils/ensure_tf_install.py:53: UserWarning: Tensorflow Addons supports using Python ops for all Tensorflow versions above or equal to 2.6.0 and strictly below 2.9.0 (nightly versions are not supported). \n",
            " The versions of TensorFlow you are currently using is 2.11.0 and is not supported. \n",
            "Some things might work, some things might not.\n",
            "If you were to encounter a bug, do not file an issue.\n",
            "If you want to make sure you're using a tested and supported configuration, either change the TensorFlow version or the TensorFlow Addons's version. \n",
            "You can find the compatibility matrix in TensorFlow Addon's readme:\n",
            "https://github.com/tensorflow/addons\n",
            "  warnings.warn(\n"
          ]
        }
      ]
    },
    {
      "cell_type": "code",
      "source": [
        "!pip install tensorflow_wavelets"
      ],
      "metadata": {
        "colab": {
          "base_uri": "https://localhost:8080/"
        },
        "id": "RQ-Rf0SyARe-",
        "outputId": "6946e840-811d-4673-f776-d77d242bab4c"
      },
      "execution_count": null,
      "outputs": [
        {
          "output_type": "stream",
          "name": "stdout",
          "text": [
            "Looking in indexes: https://pypi.org/simple, https://us-python.pkg.dev/colab-wheels/public/simple/\n",
            "Requirement already satisfied: tensorflow_wavelets in /usr/local/lib/python3.9/dist-packages (1.0.28)\n",
            "Requirement already satisfied: tensorflow in /usr/local/lib/python3.9/dist-packages (from tensorflow_wavelets) (2.11.0)\n",
            "Requirement already satisfied: tensorflow-probability in /usr/local/lib/python3.9/dist-packages (from tensorflow_wavelets) (0.19.0)\n",
            "Requirement already satisfied: PyWavelets in /usr/local/lib/python3.9/dist-packages (from tensorflow_wavelets) (1.4.1)\n",
            "Requirement already satisfied: numpy>=1.17.3 in /usr/local/lib/python3.9/dist-packages (from PyWavelets->tensorflow_wavelets) (1.22.4)\n",
            "Requirement already satisfied: typing-extensions>=3.6.6 in /usr/local/lib/python3.9/dist-packages (from tensorflow->tensorflow_wavelets) (4.5.0)\n",
            "Requirement already satisfied: termcolor>=1.1.0 in /usr/local/lib/python3.9/dist-packages (from tensorflow->tensorflow_wavelets) (2.2.0)\n",
            "Requirement already satisfied: flatbuffers>=2.0 in /usr/local/lib/python3.9/dist-packages (from tensorflow->tensorflow_wavelets) (23.3.3)\n",
            "Requirement already satisfied: h5py>=2.9.0 in /usr/local/lib/python3.9/dist-packages (from tensorflow->tensorflow_wavelets) (3.8.0)\n",
            "Requirement already satisfied: opt-einsum>=2.3.2 in /usr/local/lib/python3.9/dist-packages (from tensorflow->tensorflow_wavelets) (3.3.0)\n",
            "Requirement already satisfied: setuptools in /usr/local/lib/python3.9/dist-packages (from tensorflow->tensorflow_wavelets) (67.6.0)\n",
            "Requirement already satisfied: absl-py>=1.0.0 in /usr/local/lib/python3.9/dist-packages (from tensorflow->tensorflow_wavelets) (1.4.0)\n",
            "Requirement already satisfied: packaging in /usr/local/lib/python3.9/dist-packages (from tensorflow->tensorflow_wavelets) (23.0)\n",
            "Requirement already satisfied: keras<2.12,>=2.11.0 in /usr/local/lib/python3.9/dist-packages (from tensorflow->tensorflow_wavelets) (2.11.0)\n",
            "Requirement already satisfied: tensorflow-io-gcs-filesystem>=0.23.1 in /usr/local/lib/python3.9/dist-packages (from tensorflow->tensorflow_wavelets) (0.31.0)\n",
            "Requirement already satisfied: gast<=0.4.0,>=0.2.1 in /usr/local/lib/python3.9/dist-packages (from tensorflow->tensorflow_wavelets) (0.4.0)\n",
            "Requirement already satisfied: tensorflow-estimator<2.12,>=2.11.0 in /usr/local/lib/python3.9/dist-packages (from tensorflow->tensorflow_wavelets) (2.11.0)\n",
            "Requirement already satisfied: six>=1.12.0 in /usr/local/lib/python3.9/dist-packages (from tensorflow->tensorflow_wavelets) (1.16.0)\n",
            "Requirement already satisfied: google-pasta>=0.1.1 in /usr/local/lib/python3.9/dist-packages (from tensorflow->tensorflow_wavelets) (0.2.0)\n",
            "Requirement already satisfied: astunparse>=1.6.0 in /usr/local/lib/python3.9/dist-packages (from tensorflow->tensorflow_wavelets) (1.6.3)\n",
            "Requirement already satisfied: wrapt>=1.11.0 in /usr/local/lib/python3.9/dist-packages (from tensorflow->tensorflow_wavelets) (1.15.0)\n",
            "Requirement already satisfied: grpcio<2.0,>=1.24.3 in /usr/local/lib/python3.9/dist-packages (from tensorflow->tensorflow_wavelets) (1.51.3)\n",
            "Requirement already satisfied: libclang>=13.0.0 in /usr/local/lib/python3.9/dist-packages (from tensorflow->tensorflow_wavelets) (15.0.6.1)\n",
            "Requirement already satisfied: protobuf<3.20,>=3.9.2 in /usr/local/lib/python3.9/dist-packages (from tensorflow->tensorflow_wavelets) (3.19.6)\n",
            "Requirement already satisfied: tensorboard<2.12,>=2.11 in /usr/local/lib/python3.9/dist-packages (from tensorflow->tensorflow_wavelets) (2.11.2)\n",
            "Requirement already satisfied: dm-tree in /usr/local/lib/python3.9/dist-packages (from tensorflow-probability->tensorflow_wavelets) (0.1.8)\n",
            "Requirement already satisfied: cloudpickle>=1.3 in /usr/local/lib/python3.9/dist-packages (from tensorflow-probability->tensorflow_wavelets) (2.2.1)\n",
            "Requirement already satisfied: decorator in /usr/local/lib/python3.9/dist-packages (from tensorflow-probability->tensorflow_wavelets) (4.4.2)\n",
            "Requirement already satisfied: wheel<1.0,>=0.23.0 in /usr/local/lib/python3.9/dist-packages (from astunparse>=1.6.0->tensorflow->tensorflow_wavelets) (0.40.0)\n",
            "Requirement already satisfied: google-auth-oauthlib<0.5,>=0.4.1 in /usr/local/lib/python3.9/dist-packages (from tensorboard<2.12,>=2.11->tensorflow->tensorflow_wavelets) (0.4.6)\n",
            "Requirement already satisfied: markdown>=2.6.8 in /usr/local/lib/python3.9/dist-packages (from tensorboard<2.12,>=2.11->tensorflow->tensorflow_wavelets) (3.4.2)\n",
            "Requirement already satisfied: google-auth<3,>=1.6.3 in /usr/local/lib/python3.9/dist-packages (from tensorboard<2.12,>=2.11->tensorflow->tensorflow_wavelets) (2.16.2)\n",
            "Requirement already satisfied: werkzeug>=1.0.1 in /usr/local/lib/python3.9/dist-packages (from tensorboard<2.12,>=2.11->tensorflow->tensorflow_wavelets) (2.2.3)\n",
            "Requirement already satisfied: requests<3,>=2.21.0 in /usr/local/lib/python3.9/dist-packages (from tensorboard<2.12,>=2.11->tensorflow->tensorflow_wavelets) (2.27.1)\n",
            "Requirement already satisfied: tensorboard-data-server<0.7.0,>=0.6.0 in /usr/local/lib/python3.9/dist-packages (from tensorboard<2.12,>=2.11->tensorflow->tensorflow_wavelets) (0.6.1)\n",
            "Requirement already satisfied: tensorboard-plugin-wit>=1.6.0 in /usr/local/lib/python3.9/dist-packages (from tensorboard<2.12,>=2.11->tensorflow->tensorflow_wavelets) (1.8.1)\n",
            "Requirement already satisfied: pyasn1-modules>=0.2.1 in /usr/local/lib/python3.9/dist-packages (from google-auth<3,>=1.6.3->tensorboard<2.12,>=2.11->tensorflow->tensorflow_wavelets) (0.2.8)\n",
            "Requirement already satisfied: rsa<5,>=3.1.4 in /usr/local/lib/python3.9/dist-packages (from google-auth<3,>=1.6.3->tensorboard<2.12,>=2.11->tensorflow->tensorflow_wavelets) (4.9)\n",
            "Requirement already satisfied: cachetools<6.0,>=2.0.0 in /usr/local/lib/python3.9/dist-packages (from google-auth<3,>=1.6.3->tensorboard<2.12,>=2.11->tensorflow->tensorflow_wavelets) (5.3.0)\n",
            "Requirement already satisfied: requests-oauthlib>=0.7.0 in /usr/local/lib/python3.9/dist-packages (from google-auth-oauthlib<0.5,>=0.4.1->tensorboard<2.12,>=2.11->tensorflow->tensorflow_wavelets) (1.3.1)\n",
            "Requirement already satisfied: importlib-metadata>=4.4 in /usr/local/lib/python3.9/dist-packages (from markdown>=2.6.8->tensorboard<2.12,>=2.11->tensorflow->tensorflow_wavelets) (6.1.0)\n",
            "Requirement already satisfied: idna<4,>=2.5 in /usr/local/lib/python3.9/dist-packages (from requests<3,>=2.21.0->tensorboard<2.12,>=2.11->tensorflow->tensorflow_wavelets) (3.4)\n",
            "Requirement already satisfied: certifi>=2017.4.17 in /usr/local/lib/python3.9/dist-packages (from requests<3,>=2.21.0->tensorboard<2.12,>=2.11->tensorflow->tensorflow_wavelets) (2022.12.7)\n",
            "Requirement already satisfied: charset-normalizer~=2.0.0 in /usr/local/lib/python3.9/dist-packages (from requests<3,>=2.21.0->tensorboard<2.12,>=2.11->tensorflow->tensorflow_wavelets) (2.0.12)\n",
            "Requirement already satisfied: urllib3<1.27,>=1.21.1 in /usr/local/lib/python3.9/dist-packages (from requests<3,>=2.21.0->tensorboard<2.12,>=2.11->tensorflow->tensorflow_wavelets) (1.26.15)\n",
            "Requirement already satisfied: MarkupSafe>=2.1.1 in /usr/local/lib/python3.9/dist-packages (from werkzeug>=1.0.1->tensorboard<2.12,>=2.11->tensorflow->tensorflow_wavelets) (2.1.2)\n",
            "Requirement already satisfied: zipp>=0.5 in /usr/local/lib/python3.9/dist-packages (from importlib-metadata>=4.4->markdown>=2.6.8->tensorboard<2.12,>=2.11->tensorflow->tensorflow_wavelets) (3.15.0)\n",
            "Requirement already satisfied: pyasn1<0.5.0,>=0.4.6 in /usr/local/lib/python3.9/dist-packages (from pyasn1-modules>=0.2.1->google-auth<3,>=1.6.3->tensorboard<2.12,>=2.11->tensorflow->tensorflow_wavelets) (0.4.8)\n",
            "Requirement already satisfied: oauthlib>=3.0.0 in /usr/local/lib/python3.9/dist-packages (from requests-oauthlib>=0.7.0->google-auth-oauthlib<0.5,>=0.4.1->tensorboard<2.12,>=2.11->tensorflow->tensorflow_wavelets) (3.2.2)\n"
          ]
        }
      ]
    },
    {
      "cell_type": "code",
      "source": [
        "from tensorflow_addons.losses import ContrastiveLoss\n",
        "import tensorflow_wavelets.Layers.DWT as DWT"
      ],
      "metadata": {
        "id": "YOLvDujCARhR"
      },
      "execution_count": null,
      "outputs": []
    },
    {
      "cell_type": "code",
      "source": [
        "AUTO = tf.data.AUTOTUNE\n",
        "BATCH_SIZE = 64\n",
        "EPOCHS = 3\n",
        "CROP_TO = 32\n",
        "HEIGHT = 32\n",
        "WIDTH = 32\n",
        "SEED = 26\n",
        "PROJECT_DIM = 2048\n",
        "LATENT_DIM = 512\n",
        "WEIGHT_DECAY = 0.0005\n",
        "CROP_TO_DWT = 64\n",
        "dim_DWT = 1\n",
        "WIDTH_DWT = 64\n",
        "HEIGHT_DWT = 64\n",
        "dwt_modes = 4"
      ],
      "metadata": {
        "id": "g9Is9wMfm9ks"
      },
      "execution_count": null,
      "outputs": []
    },
    {
      "cell_type": "code",
      "source": [
        "path_to_data = \"/content/drive/MyDrive/Heart Disease Sound Signal Datasets Updated Folders\""
      ],
      "metadata": {
        "id": "qei2P8cYARmT"
      },
      "execution_count": null,
      "outputs": []
    },
    {
      "cell_type": "code",
      "source": [
        "import os\n",
        "img_dirs = []\n",
        "for entry in os.scandir(path_to_data):\n",
        "    if entry.is_dir():\n",
        "        img_dirs.append(entry.path)"
      ],
      "metadata": {
        "id": "pJlXzIJhARpV"
      },
      "execution_count": null,
      "outputs": []
    },
    {
      "cell_type": "code",
      "source": [
        "img_dirs"
      ],
      "metadata": {
        "colab": {
          "base_uri": "https://localhost:8080/"
        },
        "id": "4dk7HH7xARsF",
        "outputId": "ee494b8d-58df-47ff-c652-813362ef7091"
      },
      "execution_count": null,
      "outputs": [
        {
          "output_type": "execute_result",
          "data": {
            "text/plain": [
              "['/content/drive/MyDrive/Heart Disease Sound Signal Datasets Updated Folders/N',\n",
              " '/content/drive/MyDrive/Heart Disease Sound Signal Datasets Updated Folders/MS(Mitral Stinosis)',\n",
              " '/content/drive/MyDrive/Heart Disease Sound Signal Datasets Updated Folders/MVP(Mitral Valve Prolapse)',\n",
              " '/content/drive/MyDrive/Heart Disease Sound Signal Datasets Updated Folders/AS(Aortic Stinosis)',\n",
              " '/content/drive/MyDrive/Heart Disease Sound Signal Datasets Updated Folders/MR(Mitral Regurgitation)']"
            ]
          },
          "metadata": {},
          "execution_count": 7
        }
      ]
    },
    {
      "cell_type": "code",
      "source": [
        "img_dir_AS = []\n",
        "for entry in os.scandir('/content/drive/MyDrive/Heart Disease Sound Signal Datasets Updated Folders/AS(Aortic Stinosis)'):\n",
        "    img_dir_AS.append(entry.path)\n",
        "\n",
        "img_dir_MR = []\n",
        "for entry in os.scandir('/content/drive/MyDrive/Heart Disease Sound Signal Datasets Updated Folders/MR(Mitral Regurgitation)'):\n",
        "    img_dir_MR.append(entry.path)\n",
        "\n",
        "img_dir_MS = []\n",
        "for entry in os.scandir('/content/drive/MyDrive/Heart Disease Sound Signal Datasets Updated Folders/MS(Mitral Stinosis)'):\n",
        "    img_dir_MS.append(entry.path)\n",
        "\n",
        "img_dir_MVP = []\n",
        "for entry in os.scandir('/content/drive/MyDrive/Heart Disease Sound Signal Datasets Updated Folders/MVP(Mitral Valve Prolapse)'):\n",
        "    img_dir_MVP.append(entry.path)\n",
        "\n",
        "img_dir_N = []\n",
        "for entry in os.scandir('/content/drive/MyDrive/Heart Disease Sound Signal Datasets Updated Folders/N'):\n",
        "    img_dir_N.append(entry.path)"
      ],
      "metadata": {
        "id": "OomQVhJiARwk"
      },
      "execution_count": null,
      "outputs": []
    },
    {
      "cell_type": "code",
      "source": [
        "img_dir_AS[1]"
      ],
      "metadata": {
        "colab": {
          "base_uri": "https://localhost:8080/",
          "height": 35
        },
        "id": "j3UhGCRNBg3H",
        "outputId": "44aee7b2-5574-4231-f8fe-4646a5e992d6"
      },
      "execution_count": null,
      "outputs": [
        {
          "output_type": "execute_result",
          "data": {
            "text/plain": [
              "'/content/drive/MyDrive/Heart Disease Sound Signal Datasets Updated Folders/AS(Aortic Stinosis)/New_AS_002.wav'"
            ],
            "application/vnd.google.colaboratory.intrinsic+json": {
              "type": "string"
            }
          },
          "metadata": {},
          "execution_count": 9
        }
      ]
    },
    {
      "cell_type": "code",
      "source": [
        "def image_loading_and_preprocessing(img_path,):\n",
        "   signal , sr = librosa.load(img_path, sr=32000, mono=True)\n",
        "   melspec = librosa.feature.melspectrogram(y=signal,sr=sr)\n",
        "   melspec = librosa.power_to_db(melspec).astype(np.float32)\n",
        "   Height = melspec.shape[0]\n",
        "   Width = melspec.shape[1]\n",
        "   img = Image.fromarray(melspec, \"I\")\n",
        "   img.save(\"my.png\")\n",
        "   img = np.array(img)\n",
        "   arr1 = img.reshape((Height,Width,1))\n",
        "   arr2 = np.array(arr1, dtype='uint8') \n",
        "   resized_img = cv2.resize(arr2,(64,64))\n",
        "   resized_img = resized_img.reshape((64,64,1))\n",
        "   resized_img = tf.tile(resized_img, [1, 1, 3])\n",
        "   return resized_img"
      ],
      "metadata": {
        "id": "j9ti6506Bg_I"
      },
      "execution_count": null,
      "outputs": []
    },
    {
      "cell_type": "code",
      "source": [
        "def image_loading_and_preprocessing_eval(img_path,):\n",
        "   signal , sr = librosa.load(img_path, sr=32000, mono=True)\n",
        "   melspec = librosa.feature.melspectrogram(y=signal,sr=sr)\n",
        "   melspec = librosa.power_to_db(melspec).astype(np.float32)\n",
        "   Height = melspec.shape[0]\n",
        "   Width = melspec.shape[1]\n",
        "   img = Image.fromarray(melspec, \"I\")\n",
        "   img.save(\"my.png\")\n",
        "   img = np.array(img)\n",
        "   arr1 = img.reshape((Height,Width,1))\n",
        "   arr2 = np.array(arr1, dtype='uint8') \n",
        "   resized_img = cv2.resize(arr2,(32,32))\n",
        "   resized_img = resized_img.reshape((32,32,1))\n",
        "   resized_img = tf.tile(resized_img, [1, 1, 3])\n",
        "   return resized_img"
      ],
      "metadata": {
        "id": "pX0x92Gush4L"
      },
      "execution_count": null,
      "outputs": []
    },
    {
      "cell_type": "code",
      "source": [
        "X = [ ]\n",
        "y = [ ]\n",
        "\n",
        "for i in range(len(img_dir_AS)):\n",
        "  image = image_loading_and_preprocessing(img_dir_AS[i])\n",
        "  X.append(image)\n",
        "  y.append(0)\n",
        "\n",
        "for i in range(len(img_dir_MR)):\n",
        "  image = image_loading_and_preprocessing(img_dir_MR[i])\n",
        "  X.append(image)\n",
        "  y.append(1)\n",
        "\n",
        "for i in range(len(img_dir_MS)):\n",
        "  image = image_loading_and_preprocessing(img_dir_MS[i])\n",
        "  X.append(image)\n",
        "  y.append(2)\n",
        "\n",
        "for i in range(len(img_dir_MVP)):\n",
        "  image = image_loading_and_preprocessing(img_dir_MVP[i])\n",
        "  X.append(image)\n",
        "  y.append(3)\n",
        "\n",
        "for i in range(len(img_dir_N)):\n",
        "  image = image_loading_and_preprocessing(img_dir_N[i])\n",
        "  X.append(image)\n",
        "  y.append(4)"
      ],
      "metadata": {
        "id": "apMAqv7ReIcI"
      },
      "execution_count": null,
      "outputs": []
    },
    {
      "cell_type": "code",
      "source": [
        "dataset = {}\n",
        "dataset['X'] = X\n",
        "dataset['y'] = y\n",
        "dataset = pd.DataFrame(dataset)"
      ],
      "metadata": {
        "id": "AjbmR9-9BhBn"
      },
      "execution_count": null,
      "outputs": []
    },
    {
      "cell_type": "code",
      "source": [
        "dataset_sample = dataset[dataset['y']==0]"
      ],
      "metadata": {
        "id": "lNuvzIpDBhEd"
      },
      "execution_count": null,
      "outputs": []
    },
    {
      "cell_type": "code",
      "source": [
        "#dataset_sample.head(5)"
      ],
      "metadata": {
        "id": "30_DF5g5BhHf"
      },
      "execution_count": null,
      "outputs": []
    },
    {
      "cell_type": "code",
      "source": [
        "#Shuffling the rows\n",
        "df = dataset.sample(frac = 1)"
      ],
      "metadata": {
        "id": "yFycwPyLBhKd"
      },
      "execution_count": null,
      "outputs": []
    },
    {
      "cell_type": "code",
      "source": [
        "#df.head(5)"
      ],
      "metadata": {
        "id": "jqSa93xuju-D"
      },
      "execution_count": null,
      "outputs": []
    },
    {
      "cell_type": "code",
      "source": [
        "df.keys()"
      ],
      "metadata": {
        "colab": {
          "base_uri": "https://localhost:8080/"
        },
        "id": "Fv42PkCPBhND",
        "outputId": "0837a2a6-375c-4950-9a89-3e002f09c277"
      },
      "execution_count": null,
      "outputs": [
        {
          "output_type": "execute_result",
          "data": {
            "text/plain": [
              "Index(['X', 'y'], dtype='object')"
            ]
          },
          "metadata": {},
          "execution_count": 18
        }
      ]
    },
    {
      "cell_type": "code",
      "source": [
        "X_shuffled = df['X']\n",
        "y_shuffled = df['y']"
      ],
      "metadata": {
        "id": "_ruIRx9zBhPk"
      },
      "execution_count": null,
      "outputs": []
    },
    {
      "cell_type": "code",
      "source": [
        "y[:5]"
      ],
      "metadata": {
        "colab": {
          "base_uri": "https://localhost:8080/"
        },
        "id": "06sY3oQ_BhSb",
        "outputId": "0ed00b44-9d99-4fd2-d563-e198c128ef00"
      },
      "execution_count": null,
      "outputs": [
        {
          "output_type": "execute_result",
          "data": {
            "text/plain": [
              "[0, 0, 0, 0, 0]"
            ]
          },
          "metadata": {},
          "execution_count": 22
        }
      ]
    },
    {
      "cell_type": "code",
      "source": [
        "y_shuffled[:5]"
      ],
      "metadata": {
        "colab": {
          "base_uri": "https://localhost:8080/"
        },
        "id": "cbPoa3XmBhVB",
        "outputId": "de9d4c45-b36d-47c1-96c2-a4dc4aa18ef5"
      },
      "execution_count": null,
      "outputs": [
        {
          "output_type": "execute_result",
          "data": {
            "text/plain": [
              "485    2\n",
              "251    1\n",
              "216    1\n",
              "801    4\n",
              "919    4\n",
              "Name: y, dtype: int64"
            ]
          },
          "metadata": {},
          "execution_count": 21
        }
      ]
    },
    {
      "cell_type": "code",
      "source": [
        "y_shuffled = list(y_shuffled)#Done to remove the original indexes\n",
        "y_shuffled[:5]"
      ],
      "metadata": {
        "colab": {
          "base_uri": "https://localhost:8080/"
        },
        "id": "YcorJdVTBhXh",
        "outputId": "c66768e2-8a1b-4127-83f5-26801dfaef84"
      },
      "execution_count": null,
      "outputs": [
        {
          "output_type": "execute_result",
          "data": {
            "text/plain": [
              "[2, 1, 1, 4, 4]"
            ]
          },
          "metadata": {},
          "execution_count": 24
        }
      ]
    },
    {
      "cell_type": "code",
      "source": [
        "y_shuffled = np.array(y_shuffled)"
      ],
      "metadata": {
        "id": "hDWpbxFUkyJA"
      },
      "execution_count": null,
      "outputs": []
    },
    {
      "cell_type": "code",
      "source": [
        "list(y_shuffled).count(0)"
      ],
      "metadata": {
        "colab": {
          "base_uri": "https://localhost:8080/"
        },
        "id": "Z_jy2Cc1l5CK",
        "outputId": "7d0c2ce2-cbb5-4a6d-8ce0-8c390937b072"
      },
      "execution_count": null,
      "outputs": [
        {
          "output_type": "execute_result",
          "data": {
            "text/plain": [
              "200"
            ]
          },
          "metadata": {},
          "execution_count": 30
        }
      ]
    },
    {
      "cell_type": "code",
      "source": [
        "list(y).count(0)"
      ],
      "metadata": {
        "colab": {
          "base_uri": "https://localhost:8080/"
        },
        "id": "ANiV2H6Il2nN",
        "outputId": "49808838-193e-47f6-8ca6-32d979eb853f"
      },
      "execution_count": null,
      "outputs": [
        {
          "output_type": "execute_result",
          "data": {
            "text/plain": [
              "200"
            ]
          },
          "metadata": {},
          "execution_count": 31
        }
      ]
    },
    {
      "cell_type": "code",
      "source": [
        "X_shuffled = list(X_shuffled)#Done to remove the original indexes\n",
        "X_shuffled = np.array(X_shuffled)"
      ],
      "metadata": {
        "id": "VWinLqS8BhaH"
      },
      "execution_count": null,
      "outputs": []
    },
    {
      "cell_type": "code",
      "source": [
        "X_shuffled.shape"
      ],
      "metadata": {
        "colab": {
          "base_uri": "https://localhost:8080/"
        },
        "id": "8sSSNfceBhc6",
        "outputId": "b955fa39-b9de-4adf-fc6f-8f7c678da0a4"
      },
      "execution_count": null,
      "outputs": [
        {
          "output_type": "execute_result",
          "data": {
            "text/plain": [
              "(1000, 64, 64, 3)"
            ]
          },
          "metadata": {},
          "execution_count": 27
        }
      ]
    },
    {
      "cell_type": "code",
      "source": [
        "X_train,X_test,y_train,y_test  = train_test_split(X_shuffled , y_shuffled , test_size=0.2 , random_state=42)"
      ],
      "metadata": {
        "id": "OFxMMRrXBhfS"
      },
      "execution_count": null,
      "outputs": []
    },
    {
      "cell_type": "code",
      "source": [
        "#Creating another version of X and y for evaluation\n",
        "X_eval = [ ]\n",
        "y_eval = [ ]\n",
        "\n",
        "for i in range(len(img_dir_AS)):\n",
        "  image = image_loading_and_preprocessing_eval(img_dir_AS[i])\n",
        "  X_eval.append(image)\n",
        "  y_eval.append(0)\n",
        "\n",
        "for i in range(len(img_dir_MR)):\n",
        "  image = image_loading_and_preprocessing_eval(img_dir_MR[i])\n",
        "  X_eval.append(image)\n",
        "  y_eval.append(1)\n",
        "\n",
        "for i in range(len(img_dir_MS)):\n",
        "  image = image_loading_and_preprocessing_eval(img_dir_MS[i])\n",
        "  X_eval.append(image)\n",
        "  y_eval.append(2)\n",
        "\n",
        "for i in range(len(img_dir_MVP)):\n",
        "  image = image_loading_and_preprocessing_eval(img_dir_MVP[i])\n",
        "  X_eval.append(image)\n",
        "  y_eval.append(3)\n",
        "\n",
        "for i in range(len(img_dir_N)):\n",
        "  image = image_loading_and_preprocessing_eval(img_dir_N[i])\n",
        "  X_eval.append(image)\n",
        "  y_eval.append(4)\n",
        "\n",
        "dataset_eval = {}\n",
        "dataset_eval['X'] = X_eval\n",
        "dataset_eval['y'] = y_eval\n",
        "dataset_eval = pd.DataFrame(dataset_eval)\n",
        "\n",
        "df_eval = dataset_eval.sample(frac = 1)\n",
        "X_eval_shuffled = df_eval['X']\n",
        "y_eval_shuffled = df_eval['y']\n",
        "\n",
        "#Done to remove the original indexes\n",
        "X_eval_shuffled = list(X_eval_shuffled)\n",
        "X_eval_shuffled = np.array(X_eval_shuffled)\n",
        "y_eval_shuffled = list(y_eval_shuffled)#Done to remove the original indexes\n",
        "y_eval_shuffled = np.array(y_eval_shuffled)\n",
        "\n",
        "#Splitting into train and test for evaluation\n",
        "X_train_eval,X_test_eval,y_train_eval,y_test_eval  = train_test_split(X_eval_shuffled , y_eval_shuffled , test_size=0.2 , random_state=42)"
      ],
      "metadata": {
        "id": "NNCt-Qats0Jz"
      },
      "execution_count": null,
      "outputs": []
    },
    {
      "cell_type": "code",
      "source": [
        "def flip_random_crop(image):\n",
        "    # With random crops we also apply horizontal flipping.\n",
        "    image = tf.image.random_flip_left_right(image)\n",
        "    image = tf.image.random_crop(image, (CROP_TO, CROP_TO, 3))\n",
        "    return image\n",
        "\n",
        "def flip_random_crop_dwt(image):\n",
        "    # With random crops we also apply horizontal flipping.\n",
        "    image = tf.image.random_flip_left_right(image)\n",
        "    image = tf.image.random_crop(image, (CROP_TO_DWT, CROP_TO_DWT, 3))\n",
        "    return image\n",
        "\n",
        "def color_jitter(x, strength=[0.4, 0.4, 0.4, 0.1]):\n",
        "    x = tf.image.random_brightness(x, max_delta=0.8 * strength[0])\n",
        "    x = tf.image.random_contrast(\n",
        "        x, lower=1 - 0.8 * strength[1], upper=1 + 0.8 * strength[1]\n",
        "    )\n",
        "    x = tf.image.random_saturation(\n",
        "        x, lower=1 - 0.8 * strength[2], upper=1 + 0.8 * strength[2]\n",
        "    )\n",
        "    x = tf.image.random_hue(x, max_delta=0.2 * strength[3])\n",
        "    # Affine transformations can disturb the natural range of\n",
        "    # RGB images, hence this is needed.\n",
        "    x = tf.clip_by_value(x, 0, 255)\n",
        "    return x\n",
        "\n",
        "def color_drop(x):\n",
        "    x = tf.image.rgb_to_grayscale(x)\n",
        "    x = tf.tile(x, [1, 1, 3])\n",
        "    return x\n",
        "\n",
        "def random_apply(func, x, p):\n",
        "    if tf.random.uniform([], minval=0, maxval=1) < p:\n",
        "        return func(x)\n",
        "    else:\n",
        "        return x\n",
        "\n",
        "\n",
        "def convert_to_grayscale(image):\n",
        "  image = np.array(image) \n",
        "  image_grayscale = cv2.cvtColor(D_V1[i], cv2.COLOR_BGR2GRAY)\n",
        "  return image_grayscale\n",
        "\n",
        "def custom_augment(image):\n",
        "    # As discussed in the SimCLR paper, the series of augmentation\n",
        "    # transformations (except for random crops) need to be applied\n",
        "    # randomly to impose translational invariance.\n",
        "    image = flip_random_crop(image)\n",
        "    image = random_apply(color_jitter, image, p=0.8)\n",
        "    image = random_apply(color_drop, image, p=0.2)\n",
        "    return image\n",
        "\n",
        "def custom_augment_dwt(image):\n",
        "    # As discussed in the SimCLR paper, the series of augmentation\n",
        "    # transformations (except for random crops) need to be applied\n",
        "    # randomly to impose translational invariance.\n",
        "    image = flip_random_crop_dwt(image)\n",
        "    image = random_apply(color_jitter, image, p=0.8)\n",
        "    image = random_apply(color_drop, image, p=0.2)\n",
        "    return image"
      ],
      "metadata": {
        "id": "a3RtII4XBhiK"
      },
      "execution_count": null,
      "outputs": []
    },
    {
      "cell_type": "code",
      "source": [
        "BATCH_SIZE_DWT = 64\n",
        "ssl_ds_one = tf.data.Dataset.from_tensor_slices(X_train)\n",
        "ssl_ds_one = (ssl_ds_one.shuffle(1024, seed=SEED).map(custom_augment_dwt, num_parallel_calls=AUTO).batch(BATCH_SIZE_DWT).prefetch(AUTO))\n",
        "\n",
        "#Creating a Grayscale Version of the same Dataset-2\n",
        "ssl_ds_two = tf.data.Dataset.from_tensor_slices(X_train)\n",
        "ssl_ds_two = (ssl_ds_two.shuffle(1024, seed=SEED).map(custom_augment_dwt, num_parallel_calls=AUTO).batch(BATCH_SIZE_DWT).prefetch(AUTO))\n",
        "\n",
        "#We then zip both of these datasets.\n",
        "ssl_ds_pretrain = tf.data.Dataset.zip((ssl_ds_one, ssl_ds_two))"
      ],
      "metadata": {
        "id": "jVjUjyr3Bhk-"
      },
      "execution_count": null,
      "outputs": []
    },
    {
      "cell_type": "code",
      "source": [
        "def cosine_similarity(p, z):\n",
        "    # The authors of SimSiam emphasize the impact of\n",
        "    # the `stop_gradient` operator in the paper as it\n",
        "    # has an important role in the overall optimization.\n",
        "    z = tf.stop_gradient(z)\n",
        "    p = tf.math.l2_normalize(p, axis=1)\n",
        "    z = tf.math.l2_normalize(z, axis=1)\n",
        "    # Negative cosine similarity (minimizing this is\n",
        "    # equivalent to maximizing the similarity).\n",
        "    return -tf.reduce_mean(tf.reduce_sum((p * z), axis=1))"
      ],
      "metadata": {
        "id": "xeIlkGJLBhnq"
      },
      "execution_count": null,
      "outputs": []
    },
    {
      "cell_type": "code",
      "source": [
        "input_shape = (None, 32, 32, 4)\n",
        "input_shape_gs = (None,32,32,1)\n",
        "def encoder_dwt():\n",
        "    model = tf.keras.Sequential(\n",
        "           [ \n",
        "             # Input and backbone.\n",
        "             tf.keras.layers.Input((CROP_TO_DWT, CROP_TO_DWT, 3)),\n",
        "             tf.keras.layers.InputLayer(input_shape = (WIDTH_DWT,HEIGHT_DWT,3)),\n",
        "             tf.keras.layers.Conv2D(1, 3,activation='relu',padding=\"same\",input_shape=input_shape_gs[1:]),\n",
        "             DWT.DWT(name=\"haar\",concat=0),\n",
        "             #tf.keras.layers.Conv2D(4, 1024),\n",
        "             tf.keras.layers.Conv2D(3, 4,activation='relu',padding=\"same\",input_shape=input_shape[1:]),\n",
        "             tf.keras.applications.ResNet50(input_shape=(WIDTH, HEIGHT , 3),weights=None, include_top=False, pooling='avg'), \n",
        "             tf.keras.layers.Dense(PROJECT_DIM),\n",
        "\n",
        "             # Projection head.\n",
        "             tf.keras.layers.Dense(PROJECT_DIM,use_bias=False,kernel_regularizer=regularizers.l2(WEIGHT_DECAY)),\n",
        "             tf.keras.layers.BatchNormalization(),\n",
        "             tf.keras.layers.ReLU(),\n",
        "             tf.keras.layers.Dense(PROJECT_DIM,use_bias=False,kernel_regularizer=regularizers.l2(WEIGHT_DECAY)),\n",
        "             tf.keras.layers.BatchNormalization()\n",
        "           ] ,\n",
        "           name = \"Encoder\"\n",
        "    )\n",
        "    return model\n",
        "\n",
        "\n",
        "def predictor_dwt():\n",
        "    model = tf.keras.Sequential(\n",
        "        [\n",
        "            # Note the AutoEncoder-like structure.\n",
        "            tf.keras.layers.Input((PROJECT_DIM,)),\n",
        "            tf.keras.layers.Dense(LATENT_DIM,use_bias=False,kernel_regularizer=regularizers.l2(WEIGHT_DECAY),),\n",
        "            tf.keras.layers.ReLU(),\n",
        "            tf.keras.layers.BatchNormalization(),\n",
        "            tf.keras.layers.Dense(PROJECT_DIM),\n",
        "        ],\n",
        "        name=\"predictor\",\n",
        "    )\n",
        "    return model"
      ],
      "metadata": {
        "id": "sDDDHbelBhqI"
      },
      "execution_count": null,
      "outputs": []
    },
    {
      "cell_type": "code",
      "source": [
        "class SSL_DWT(tf.keras.Model):\n",
        "    def __init__(self, encoder_dwt,predictor_dwt):\n",
        "        super(SSL_DWT,self).__init__()\n",
        "        #self.model = model\n",
        "        self.encoder = encoder_dwt\n",
        "        self.predictor = predictor_dwt\n",
        "        self.loss_tracker = tf.keras.metrics.Mean(name=\"loss\")\n",
        "        #self.data1 = data1\n",
        "        #self.data2 = data2\n",
        "\n",
        "    @property\n",
        "    def metrics(self):\n",
        "        return [self.loss_tracker]\n",
        "\n",
        "    def train_step(self, data):\n",
        "        # Unpack the data .\n",
        "        ds_one , ds_two = data \n",
        "\n",
        "        # Forward pass through the encoder and predictor.\n",
        "        with tf.GradientTape() as tape:\n",
        "            #loss = cosine_similarity(ds_one,ds_two)\n",
        "            z1 , z2 = self.encoder(ds_one), self.encoder(ds_two)\n",
        "            p1 , p2 = self.predictor(z1), self.predictor(z2)\n",
        "            # Note that here we are enforcing the network to match\n",
        "            # the representations of two differently augmented batches\n",
        "            # of data.\n",
        "            loss = cosine_similarity(p1, z2)  \n",
        "            loss += cosine_similarity(p2, z1) \n",
        "            loss = loss/2\n",
        "\n",
        "        # Compute gradients and update the parameters.\n",
        "        learnable_params = (\n",
        "            self.encoder.trainable_variables + self.predictor.trainable_variables\n",
        "        )\n",
        "        gradients = tape.gradient(loss, learnable_params)\n",
        "        self.optimizer.apply_gradients(zip(gradients, learnable_params))\n",
        "\n",
        "        # Monitor loss.\n",
        "        self.loss_tracker.update_state(loss)\n",
        "        return {\"loss\": self.loss_tracker.result()}"
      ],
      "metadata": {
        "id": "D2kY3ZviBhsu"
      },
      "execution_count": null,
      "outputs": []
    },
    {
      "cell_type": "code",
      "source": [
        "EPOCHS = 5\n",
        "num_training_samples = len(X_train)\n",
        "steps = EPOCHS * ( num_training_samples // BATCH_SIZE)\n",
        "\n",
        "lr_decayed_fn = tf.keras.optimizers.schedules.CosineDecay(\n",
        "    initial_learning_rate=0.03, decay_steps=steps\n",
        ")\n",
        "\n",
        "# Create an early stopping callback.\n",
        "early_stopping = tf.keras.callbacks.EarlyStopping(\n",
        "    monitor=\"loss\", patience=5, restore_best_weights=True\n",
        ")\n",
        "\n",
        "# Compile model and start training.\n",
        "Final_Training_Model = SSL_DWT(encoder_dwt() , predictor_dwt() )\n",
        "Final_Training_Model.compile(optimizer=tf.keras.optimizers.SGD(lr_decayed_fn, momentum=0.6))\n",
        "history = Final_Training_Model.fit(ssl_ds_pretrain , epochs=EPOCHS , callbacks=[early_stopping])\n",
        "\n",
        "# Visualize the training progress of the model.\n",
        "plt.plot(history.history[\"loss\"])\n",
        "plt.grid()\n",
        "plt.title(\"Negative Cosine Similairty\")\n",
        "plt.show()"
      ],
      "metadata": {
        "colab": {
          "base_uri": "https://localhost:8080/",
          "height": 455
        },
        "id": "0YVO7xFKBhvR",
        "outputId": "5a9c9fc6-901b-4d58-f260-537ae1cdd196"
      },
      "execution_count": null,
      "outputs": [
        {
          "output_type": "stream",
          "name": "stdout",
          "text": [
            "Epoch 1/5\n",
            "13/13 [==============================] - 170s 11s/step - loss: -0.3652\n",
            "Epoch 2/5\n",
            "13/13 [==============================] - 122s 9s/step - loss: -0.7485\n",
            "Epoch 3/5\n",
            "13/13 [==============================] - 124s 9s/step - loss: -0.8823\n",
            "Epoch 4/5\n",
            "13/13 [==============================] - 123s 9s/step - loss: -0.9204\n",
            "Epoch 5/5\n",
            "13/13 [==============================] - 122s 9s/step - loss: -0.9280\n"
          ]
        },
        {
          "output_type": "display_data",
          "data": {
            "text/plain": [
              "<Figure size 432x288 with 1 Axes>"
            ],
            "image/png": "[encoded data removed]"
          },
          "metadata": {
            "needs_background": "light"
          }
        }
      ]
    },
    {
      "cell_type": "code",
      "source": [
        "# Visualize the training progress of the model.\n",
        "plt.plot(history.history[\"loss\"])\n",
        "plt.grid()\n",
        "plt.ylabel('Negtaive_Cosine_Similarity')\n",
        "plt.xlabel('Epochs')\n",
        "plt.title(\"Negative Cosine Similairty Vs Epochs\")\n",
        "plt.show()"
      ],
      "metadata": {
        "colab": {
          "base_uri": "https://localhost:8080/",
          "height": 295
        },
        "id": "9hkCQRBpqFmW",
        "outputId": "b4c97e15-64db-4642-a1c7-96c7caabf6c4"
      },
      "execution_count": null,
      "outputs": [
        {
          "output_type": "display_data",
          "data": {
            "text/plain": [
              "<Figure size 432x288 with 1 Axes>"
            ],
            "image/png": "[encoded data removed]"
          },
          "metadata": {
            "needs_background": "light"
          }
        }
      ]
    },
    {
      "cell_type": "code",
      "source": [
        "EPOCHS = 10\n",
        "train_ds = tf.data.Dataset.from_tensor_slices((X_train_eval, y_train_eval))\n",
        "test_ds = tf.data.Dataset.from_tensor_slices((X_test_eval, y_test_eval))\n",
        "# Then we shuffle, batch, and prefetch this dataset for performance. We\n",
        "# also apply random resized crops as an augmentation but only to the\n",
        "# training set.\n",
        "train_ds = (train_ds.shuffle(1024).map(lambda x, y: (flip_random_crop(x), y), num_parallel_calls=AUTO).batch(BATCH_SIZE).prefetch(AUTO))\n",
        "test_ds = test_ds.batch(BATCH_SIZE).prefetch(AUTO)\n",
        "\n",
        "# Extract the backbone ResNet50\n",
        "backbone = tf.keras.Sequential([tf.keras.layers.Input((CROP_TO, CROP_TO, 3)),\n",
        "                                tf.keras.layers.InputLayer(input_shape = (WIDTH,HEIGHT,3)),\n",
        "                                Final_Training_Model.encoder.get_layer(\"resnet50\")])\n",
        "\n",
        "# We then create our linear classifier and train it.\n",
        "backbone.trainable = False\n",
        "inputs = layers.Input((CROP_TO, CROP_TO, 3))\n",
        "#The Trained weights of the resnet layer is stored in x.\n",
        "x = backbone(inputs, training=False)\n",
        "#Then the x is the passed into a Dense layer with softmax activation function to get the final layer's weights.\n",
        "outputs = layers.Dense(10, activation=\"softmax\")(x)\n",
        "#We now proceed to build our final linear model\n",
        "linear_model = tf.keras.Model(inputs, outputs, name=\"linear_model\")\n",
        "\n",
        "# Compile model and start training.\n",
        "linear_model.compile(loss=\"sparse_categorical_crossentropy\",metrics=[\"accuracy\"],optimizer=tf.keras.optimizers.SGD(lr_decayed_fn, momentum=0.9),)\n",
        "history = linear_model.fit(train_ds, validation_data=test_ds, epochs=EPOCHS, callbacks=[early_stopping]),\n",
        "test_acc = linear_model.evaluate(test_ds)\n",
        "#print(\"Test accuracy: {:.2f}%\".format(test_acc * 100))"
      ],
      "metadata": {
        "colab": {
          "base_uri": "https://localhost:8080/"
        },
        "id": "AFZaPGVFBhx3",
        "outputId": "36ba2b5c-7b94-4a77-f5b8-3d2f184e41c0"
      },
      "execution_count": null,
      "outputs": [
        {
          "output_type": "stream",
          "name": "stdout",
          "text": [
            "Epoch 1/15\n",
            "13/13 [==============================] - 17s 823ms/step - loss: 916.3933 - accuracy: 0.1875 - val_loss: 748.3208 - val_accuracy: 0.1950\n",
            "Epoch 2/15\n",
            "13/13 [==============================] - 4s 296ms/step - loss: 1117.8206 - accuracy: 0.1925 - val_loss: 1337.4128 - val_accuracy: 0.1750\n",
            "Epoch 3/15\n",
            "13/13 [==============================] - 5s 422ms/step - loss: 1261.4952 - accuracy: 0.2150 - val_loss: 954.7783 - val_accuracy: 0.2250\n",
            "Epoch 4/15\n",
            "13/13 [==============================] - 5s 385ms/step - loss: 853.2183 - accuracy: 0.1950 - val_loss: 977.4105 - val_accuracy: 0.1950\n",
            "Epoch 5/15\n",
            "13/13 [==============================] - 4s 347ms/step - loss: 697.2146 - accuracy: 0.2050 - val_loss: 742.0377 - val_accuracy: 0.1750\n",
            "Epoch 6/15\n",
            "13/13 [==============================] - 6s 511ms/step - loss: 722.1813 - accuracy: 0.2212 - val_loss: 906.8786 - val_accuracy: 0.2000\n",
            "Epoch 7/15\n",
            "13/13 [==============================] - 4s 294ms/step - loss: 860.6091 - accuracy: 0.2000 - val_loss: 979.4104 - val_accuracy: 0.2000\n",
            "Epoch 8/15\n",
            "13/13 [==============================] - 6s 503ms/step - loss: 902.3329 - accuracy: 0.2000 - val_loss: 997.8470 - val_accuracy: 0.2000\n",
            "Epoch 9/15\n",
            "13/13 [==============================] - 4s 295ms/step - loss: 913.8474 - accuracy: 0.2000 - val_loss: 1002.5334 - val_accuracy: 0.2000\n",
            "Epoch 10/15\n",
            "13/13 [==============================] - 4s 351ms/step - loss: 921.0363 - accuracy: 0.2000 - val_loss: 1003.7246 - val_accuracy: 0.2000\n",
            "4/4 [==============================] - 1s 305ms/step - loss: 742.0377 - accuracy: 0.1750\n"
          ]
        }
      ]
    },
    {
      "cell_type": "code",
      "source": [
        "print(\"Test accuracy: {:.2f}%\".format(test_acc[1] * 100))"
      ],
      "metadata": {
        "colab": {
          "base_uri": "https://localhost:8080/"
        },
        "id": "3NibpTQVARzI",
        "outputId": "0a53eab5-e8aa-4b41-eb56-fc3666e977b1"
      },
      "execution_count": null,
      "outputs": [
        {
          "output_type": "stream",
          "name": "stdout",
          "text": [
            "Test accuracy: 19.50%\n"
          ]
        }
      ]
    },
    {
      "cell_type": "code",
      "source": [
        "test_acc"
      ],
      "metadata": {
        "colab": {
          "base_uri": "https://localhost:8080/"
        },
        "id": "v2k64X2HAR2q",
        "outputId": "b6db939b-d3b8-4b66-9379-2e945ed342d7"
      },
      "execution_count": null,
      "outputs": [
        {
          "output_type": "execute_result",
          "data": {
            "text/plain": [
              "[742.0377197265625, 0.19499999701976775]"
            ]
          },
          "metadata": {},
          "execution_count": 66
        }
      ]
    },
    {
      "cell_type": "markdown",
      "source": [
        "Code Ends Here"
      ],
      "metadata": {
        "id": "zkSVSszysmR4"
      }
    },
    {
      "cell_type": "markdown",
      "source": [
        "Dataset Debugging "
      ],
      "metadata": {
        "id": "g3-z2JpPuI4-"
      }
    },
    {
      "cell_type": "code",
      "source": [
        "path_to_data = \"C:\\\\Users\\\\harik\\\\Downloads\\\\ML_Celebritiy_Classification_Project\\\\Original Data\""
      ],
      "metadata": {
        "id": "FzBnRBKOuLiM"
      },
      "execution_count": null,
      "outputs": []
    },
    {
      "cell_type": "markdown",
      "source": [
        "Librosa Sound Signal To Image Testing(We just check if Librosa is working or not)."
      ],
      "metadata": {
        "id": "nDp6CifrsYAQ"
      }
    },
    {
      "cell_type": "code",
      "execution_count": null,
      "metadata": {
        "id": "flKRDdwPrNNP"
      },
      "outputs": [],
      "source": [
        "import librosa\n",
        "import numpy as np\n",
        "y, sr = librosa.load('/content/New_AS_001.wav', sr=32000, mono=True)\n",
        "#melspec = librosa.feature.melspectrogram(y, sr=sr, n_mels = 128)\n",
        "melspec = librosa.feature.melspectrogram(y=y,sr=sr)#, sr=sr, n_mels = 128)\n",
        "melspec = librosa.power_to_db(melspec).astype(np.float32)"
      ]
    },
    {
      "cell_type": "code",
      "source": [
        "import librosa.display\n",
        "librosa.display.specshow(melspec, x_axis='time',  y_axis='mel', sr=sr, fmax=16000)"
      ],
      "metadata": {
        "colab": {
          "base_uri": "https://localhost:8080/",
          "height": 296
        },
        "id": "wQfmA12LraU_",
        "outputId": "f0658b9c-1210-47e1-e4aa-61648eb63848"
      },
      "execution_count": null,
      "outputs": [
        {
          "output_type": "execute_result",
          "data": {
            "text/plain": [
              "<matplotlib.collections.QuadMesh at 0x7feec008e760>"
            ]
          },
          "metadata": {},
          "execution_count": 6
        },
        {
          "output_type": "display_data",
          "data": {
            "text/plain": [
              "<Figure size 432x288 with 1 Axes>"
            ],
            "image/png": "[encoded data removed]"
          },
          "metadata": {
            "needs_background": "light"
          }
        }
      ]
    },
    {
      "cell_type": "code",
      "source": [
        "melspec"
      ],
      "metadata": {
        "colab": {
          "base_uri": "https://localhost:8080/"
        },
        "id": "kCNrQqi7upWK",
        "outputId": "5b9628c4-983a-4e2f-e110-20b350aa7822"
      },
      "execution_count": null,
      "outputs": [
        {
          "output_type": "execute_result",
          "data": {
            "text/plain": [
              "array([[-32.43567   , -16.689938  ,  -0.12481511, ..., -41.927773  ,\n",
              "        -41.927773  , -41.927773  ],\n",
              "       [-17.421162  ,  -1.7984091 ,  11.803228  , ..., -41.927773  ,\n",
              "        -41.316296  , -33.695045  ],\n",
              "       [-15.594617  ,   7.5110874 ,  18.178734  , ..., -41.927773  ,\n",
              "        -41.927773  , -34.742256  ],\n",
              "       ...,\n",
              "       [-41.927773  , -41.927773  , -41.927773  , ..., -41.927773  ,\n",
              "        -41.927773  , -41.927773  ],\n",
              "       [-41.927773  , -41.927773  , -41.927773  , ..., -41.927773  ,\n",
              "        -41.927773  , -41.927773  ],\n",
              "       [-41.927773  , -41.927773  , -41.927773  , ..., -41.927773  ,\n",
              "        -41.927773  , -41.927773  ]], dtype=float32)"
            ]
          },
          "metadata": {},
          "execution_count": 7
        }
      ]
    },
    {
      "cell_type": "code",
      "source": [
        "melspec.shape"
      ],
      "metadata": {
        "colab": {
          "base_uri": "https://localhost:8080/"
        },
        "id": "FrTWuYv5uqIV",
        "outputId": "f77f8d89-9980-4429-f51c-eb57bab6abff"
      },
      "execution_count": null,
      "outputs": [
        {
          "output_type": "execute_result",
          "data": {
            "text/plain": [
              "(128, 163)"
            ]
          },
          "metadata": {},
          "execution_count": 8
        }
      ]
    },
    {
      "cell_type": "code",
      "source": [
        "from PIL import Image\n",
        "img = Image.fromarray(melspec, \"I\")\n",
        "img.save(\"my.png\")"
      ],
      "metadata": {
        "id": "ygO4eHjFvNnW"
      },
      "execution_count": null,
      "outputs": []
    },
    {
      "cell_type": "code",
      "source": [
        "img = np.array(img)\n",
        "img.shape"
      ],
      "metadata": {
        "colab": {
          "base_uri": "https://localhost:8080/"
        },
        "id": "Jzw8oszJvdYk",
        "outputId": "5b9ea1f6-ade8-4709-de2c-423ce1f84cc5"
      },
      "execution_count": null,
      "outputs": [
        {
          "output_type": "execute_result",
          "data": {
            "text/plain": [
              "(128, 163)"
            ]
          },
          "metadata": {},
          "execution_count": 14
        }
      ]
    },
    {
      "cell_type": "code",
      "source": [
        "arr1 = img.reshape(-1)"
      ],
      "metadata": {
        "id": "WdJXXHpZvyB7"
      },
      "execution_count": null,
      "outputs": []
    },
    {
      "cell_type": "code",
      "source": [
        "arr1.shape"
      ],
      "metadata": {
        "colab": {
          "base_uri": "https://localhost:8080/"
        },
        "id": "6QcYHjQhwvBr",
        "outputId": "dea3b92f-2e0c-47a2-f621-8b274342c2ad"
      },
      "execution_count": null,
      "outputs": [
        {
          "output_type": "execute_result",
          "data": {
            "text/plain": [
              "(20864,)"
            ]
          },
          "metadata": {},
          "execution_count": 18
        }
      ]
    },
    {
      "cell_type": "code",
      "source": [
        "arr1 = arr1.reshape((128,163,1))"
      ],
      "metadata": {
        "id": "iFKJGHTlyOs6"
      },
      "execution_count": null,
      "outputs": []
    },
    {
      "cell_type": "code",
      "source": [
        "arr1.shape"
      ],
      "metadata": {
        "colab": {
          "base_uri": "https://localhost:8080/"
        },
        "id": "6R3N2Cr6w_vE",
        "outputId": "50e2e8c9-5cab-470a-b1dd-8ad9fd0de78f"
      },
      "execution_count": null,
      "outputs": [
        {
          "output_type": "execute_result",
          "data": {
            "text/plain": [
              "(128, 163, 1)"
            ]
          },
          "metadata": {},
          "execution_count": 22
        }
      ]
    },
    {
      "cell_type": "code",
      "source": [
        "arr2 = np.array(arr1, dtype='uint8') "
      ],
      "metadata": {
        "id": "9Q8yBRqry2LX"
      },
      "execution_count": null,
      "outputs": []
    },
    {
      "cell_type": "code",
      "source": [
        "import cv2\n",
        "resized_img = cv2.resize(arr2,(64,64))"
      ],
      "metadata": {
        "id": "HSUO5n3xyVKg"
      },
      "execution_count": null,
      "outputs": []
    },
    {
      "cell_type": "code",
      "source": [
        "resized_img = cv2.resize(arr2,(64,64))\n",
        "resized_img = resized_img.reshape((64,64,1))"
      ],
      "metadata": {
        "id": "wdty2iNoyzIv"
      },
      "execution_count": null,
      "outputs": []
    },
    {
      "cell_type": "code",
      "source": [
        "from google.colab.patches import cv2_imshow\n",
        "cv2_imshow(resized_img)"
      ],
      "metadata": {
        "colab": {
          "base_uri": "https://localhost:8080/",
          "height": 81
        },
        "id": "toGR2MVA0OlV",
        "outputId": "8461bb8e-3de1-4457-f80d-1f6f3991eb13"
      },
      "execution_count": null,
      "outputs": [
        {
          "output_type": "display_data",
          "data": {
            "text/plain": [
              "<PIL.Image.Image image mode=RGB size=64x64 at 0x7FEEBD2ED850>"
            ],
            "image/png": "[encoded data removed]"
          },
          "metadata": {}
        }
      ]
    },
    {
      "cell_type": "code",
      "source": [
        "scaled_img = cv2.resize(resized_img,(256,256))\n",
        "scaled_img = scaled_img.reshape((256,256,1))\n",
        "cv2_imshow(scaled_img)"
      ],
      "metadata": {
        "colab": {
          "base_uri": "https://localhost:8080/",
          "height": 273
        },
        "id": "jQICfsUT0Sm6",
        "outputId": "d91bcc3c-262a-443d-824b-466a1f6d72db"
      },
      "execution_count": null,
      "outputs": [
        {
          "output_type": "display_data",
          "data": {
            "text/plain": [
              "<PIL.Image.Image image mode=RGB size=256x256 at 0x7FEEF351D5E0>"
            ],
            "image/png": "[encoded data removed]"
          },
          "metadata": {}
        }
      ]
    }
  ]
}